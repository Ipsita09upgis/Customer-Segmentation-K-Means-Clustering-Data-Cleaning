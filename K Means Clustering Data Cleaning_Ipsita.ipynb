{
 "cells": [
  {
   "cell_type": "markdown",
   "id": "fa753809-d898-4be9-a5d5-3fdc4d854819",
   "metadata": {},
   "source": [
    "# Import libraries"
   ]
  },
  {
   "cell_type": "code",
   "execution_count": 50,
   "id": "1fc8deb0-c043-454c-9a9c-b484605d416c",
   "metadata": {},
   "outputs": [],
   "source": [
    "import pandas as pd\n",
    "import numpy as np\n",
    "import matplotlib.pyplot as plt\n",
    "import seaborn as sns\n",
    "from sklearn.preprocessing import StandardScaler\n",
    "from sklearn.cluster import KMeans\n",
    "from sklearn.decomposition import PCA\n",
    "from sklearn.metrics import silhouette_score\n",
    "from IPython.display import Markdown"
   ]
  },
  {
   "cell_type": "markdown",
   "id": "341be564-cc72-46d2-bfe2-505fda8d5993",
   "metadata": {},
   "source": [
    "# Step 1: Load the data"
   ]
  },
  {
   "cell_type": "code",
   "execution_count": 52,
   "id": "46e6e474-42ff-47a1-8ab3-56eab617b781",
   "metadata": {},
   "outputs": [],
   "source": [
    "df = pd.read_excel('Online Retail.xlsx')"
   ]
  },
  {
   "cell_type": "markdown",
   "id": "c3c283ad-d0e1-4bee-9c82-2d7c383e159e",
   "metadata": {},
   "source": [
    "# Step 2: Understand the data"
   ]
  },
  {
   "cell_type": "code",
   "execution_count": 54,
   "id": "50d5866f-c58f-4285-8bce-f6db8b561de4",
   "metadata": {},
   "outputs": [
    {
     "name": "stdout",
     "output_type": "stream",
     "text": [
      "First 5 rows:   InvoiceNo StockCode                          Description  Quantity  \\\n",
      "0    536365    85123A   WHITE HANGING HEART T-LIGHT HOLDER         6   \n",
      "1    536365     71053                  WHITE METAL LANTERN         6   \n",
      "2    536365    84406B       CREAM CUPID HEARTS COAT HANGER         8   \n",
      "3    536365    84029G  KNITTED UNION FLAG HOT WATER BOTTLE         6   \n",
      "4    536365    84029E       RED WOOLLY HOTTIE WHITE HEART.         6   \n",
      "\n",
      "          InvoiceDate  UnitPrice  CustomerID         Country  \n",
      "0 2010-12-01 08:26:00       2.55     17850.0  United Kingdom  \n",
      "1 2010-12-01 08:26:00       3.39     17850.0  United Kingdom  \n",
      "2 2010-12-01 08:26:00       2.75     17850.0  United Kingdom  \n",
      "3 2010-12-01 08:26:00       3.39     17850.0  United Kingdom  \n",
      "4 2010-12-01 08:26:00       3.39     17850.0  United Kingdom  \n"
     ]
    }
   ],
   "source": [
    "print(\"First 5 rows:\", df.head())"
   ]
  },
  {
   "cell_type": "code",
   "execution_count": 55,
   "id": "5025b82b-95e6-4eb0-8f9f-5cf2003f9ecc",
   "metadata": {},
   "outputs": [
    {
     "name": "stdout",
     "output_type": "stream",
     "text": [
      "\n",
      "Data Info:\n",
      "<class 'pandas.core.frame.DataFrame'>\n",
      "RangeIndex: 541909 entries, 0 to 541908\n",
      "Data columns (total 8 columns):\n",
      " #   Column       Non-Null Count   Dtype         \n",
      "---  ------       --------------   -----         \n",
      " 0   InvoiceNo    541909 non-null  object        \n",
      " 1   StockCode    541909 non-null  object        \n",
      " 2   Description  540455 non-null  object        \n",
      " 3   Quantity     541909 non-null  int64         \n",
      " 4   InvoiceDate  541909 non-null  datetime64[ns]\n",
      " 5   UnitPrice    541909 non-null  float64       \n",
      " 6   CustomerID   406829 non-null  float64       \n",
      " 7   Country      541909 non-null  object        \n",
      "dtypes: datetime64[ns](1), float64(2), int64(1), object(4)\n",
      "memory usage: 33.1+ MB\n"
     ]
    }
   ],
   "source": [
    "print(\"\\nData Info:\")\n",
    "df.info()"
   ]
  },
  {
   "cell_type": "code",
   "execution_count": 56,
   "id": "bdad7333-5c53-45f4-86ec-191d29ab75d2",
   "metadata": {},
   "outputs": [
    {
     "name": "stdout",
     "output_type": "stream",
     "text": [
      "\n",
      "Descriptive Statistics:\n",
      "             Quantity                    InvoiceDate      UnitPrice  \\\n",
      "count  541909.000000                         541909  541909.000000   \n",
      "mean        9.552250  2011-07-04 13:34:57.156386048       4.611114   \n",
      "min    -80995.000000            2010-12-01 08:26:00  -11062.060000   \n",
      "25%         1.000000            2011-03-28 11:34:00       1.250000   \n",
      "50%         3.000000            2011-07-19 17:17:00       2.080000   \n",
      "75%        10.000000            2011-10-19 11:27:00       4.130000   \n",
      "max     80995.000000            2011-12-09 12:50:00   38970.000000   \n",
      "std       218.081158                            NaN      96.759853   \n",
      "\n",
      "          CustomerID  \n",
      "count  406829.000000  \n",
      "mean    15287.690570  \n",
      "min     12346.000000  \n",
      "25%     13953.000000  \n",
      "50%     15152.000000  \n",
      "75%     16791.000000  \n",
      "max     18287.000000  \n",
      "std      1713.600303  \n"
     ]
    }
   ],
   "source": [
    "print(\"\\nDescriptive Statistics:\\n\", df.describe())"
   ]
  },
  {
   "cell_type": "code",
   "execution_count": 57,
   "id": "ff800b0d-3b0d-4094-8f31-1c585bdb67c1",
   "metadata": {},
   "outputs": [
    {
     "name": "stdout",
     "output_type": "stream",
     "text": [
      "\n",
      "Missing Values:\n",
      " InvoiceNo           0\n",
      "StockCode           0\n",
      "Description      1454\n",
      "Quantity            0\n",
      "InvoiceDate         0\n",
      "UnitPrice           0\n",
      "CustomerID     135080\n",
      "Country             0\n",
      "dtype: int64\n"
     ]
    }
   ],
   "source": [
    "print(\"\\nMissing Values:\\n\", df.isnull().sum())"
   ]
  },
  {
   "cell_type": "markdown",
   "id": "645ea91a-0c46-41de-94ab-751674f89649",
   "metadata": {},
   "source": [
    "# Step 3: Clean the data"
   ]
  },
  {
   "cell_type": "code",
   "execution_count": 59,
   "id": "8d981162-a773-4856-91ce-e95a55387551",
   "metadata": {},
   "outputs": [],
   "source": [
    "# Drop rows with missing CustomerID or Description\n",
    "df.dropna(subset=['CustomerID', 'Description'], inplace=True)\n"
   ]
  },
  {
   "cell_type": "code",
   "execution_count": 60,
   "id": "0f4cad8c-4325-4e28-81be-21a0040cd213",
   "metadata": {},
   "outputs": [],
   "source": [
    "# Remove duplicates\n",
    "df.drop_duplicates(inplace=True)"
   ]
  },
  {
   "cell_type": "code",
   "execution_count": 61,
   "id": "2822fdcd-8c1a-4d55-a46e-2bcb7fa1b930",
   "metadata": {},
   "outputs": [],
   "source": [
    "# Remove negative or zero Quantity or UnitPrice\n",
    "df = df[(df['Quantity'] > 0) & (df['UnitPrice'] > 0)]\n"
   ]
  },
  {
   "cell_type": "code",
   "execution_count": 62,
   "id": "a322629e-d49f-4231-8dd2-44e65a6e4129",
   "metadata": {},
   "outputs": [],
   "source": [
    "# Remove cancelled orders (InvoiceNo starting with 'C')\n",
    "df = df[~df['InvoiceNo'].astype(str).str.startswith('C')]\n"
   ]
  },
  {
   "cell_type": "code",
   "execution_count": 63,
   "id": "c7feb7ec-9f85-4164-ad4a-c6a380cc68e8",
   "metadata": {},
   "outputs": [],
   "source": [
    "df['CustomerID'] = df['CustomerID'].astype(int)\n"
   ]
  },
  {
   "cell_type": "markdown",
   "id": "43f41c28-c059-4376-90bc-525cba82ae2d",
   "metadata": {},
   "source": [
    "# Step 4: Feature Engineering "
   ]
  },
  {
   "cell_type": "code",
   "execution_count": 65,
   "id": "387b6e8a-16a4-450c-8b0d-e1681641aab1",
   "metadata": {},
   "outputs": [],
   "source": [
    "# TotalAmount per transaction\n",
    "df['TotalAmount'] = df['Quantity'] * df['UnitPrice']"
   ]
  },
  {
   "cell_type": "code",
   "execution_count": 66,
   "id": "18414fed-e220-45fb-b741-d06f164c6066",
   "metadata": {},
   "outputs": [],
   "source": [
    "# Aggregate data by CustomerID\n",
    "customer_df = df.groupby('CustomerID').agg({\n",
    "    'InvoiceNo': 'nunique',\n",
    "    'Quantity': 'sum',\n",
    "    'TotalAmount': 'sum',\n",
    "    'InvoiceDate': ['min', 'max'],\n",
    "    'Country': 'first'\n",
    "}).reset_index()"
   ]
  },
  {
   "cell_type": "code",
   "execution_count": 67,
   "id": "a9438260-99d8-4708-badd-5557f6248316",
   "metadata": {},
   "outputs": [],
   "source": [
    "# Rename columns\n",
    "customer_df.columns = ['CustomerID', 'NumOrders', 'TotalQuantity', 'TotalSpent', 'FirstPurchase', 'LastPurchase', 'Country']\n",
    "\n"
   ]
  },
  {
   "cell_type": "code",
   "execution_count": 68,
   "id": "1ca25c58-4a0f-4fe5-b731-3c2b330bfb42",
   "metadata": {},
   "outputs": [],
   "source": [
    "# Recency (days since last purchase)\n",
    "latest_date = df['InvoiceDate'].max()\n",
    "customer_df['Recency'] = (latest_date - customer_df['LastPurchase']).dt.days"
   ]
  },
  {
   "cell_type": "markdown",
   "id": "af00438d-af4a-47b3-92ba-ba687dbd88af",
   "metadata": {},
   "source": [
    "# Step 5. Data Preparation for Clustering"
   ]
  },
  {
   "cell_type": "code",
   "execution_count": 70,
   "id": "e0635484-562c-4c0f-977b-ef690bdb6c1c",
   "metadata": {},
   "outputs": [],
   "source": [
    "# Drop non-numeric or ID columns for clustering\n",
    "clustering_df = customer_df[['NumOrders', 'TotalQuantity', 'TotalSpent', 'Recency']]\n"
   ]
  },
  {
   "cell_type": "markdown",
   "id": "7dda9fc1-e6c7-4d50-a08e-a7563fb89698",
   "metadata": {},
   "source": [
    "# Step 6: Feature Scaling"
   ]
  },
  {
   "cell_type": "code",
   "execution_count": 72,
   "id": "a3a0ca75-9f8f-4124-8a72-1a209d927fe2",
   "metadata": {},
   "outputs": [],
   "source": [
    "scaler = StandardScaler()\n",
    "scaled_features = scaler.fit_transform(clustering_df)"
   ]
  },
  {
   "cell_type": "markdown",
   "id": "975c6efe-b32e-4b55-9bfd-202b435035dc",
   "metadata": {},
   "source": [
    "# Step 7 : Cleaned Data Save"
   ]
  },
  {
   "cell_type": "code",
   "execution_count": null,
   "id": "10c1157b-f5de-45ab-95b6-63941e764aab",
   "metadata": {},
   "outputs": [],
   "source": [
    "df.to_excel(\"cleaned_data.xlsx\", index=False)\n",
    "print(\"Cleaned data saved successfully to 'Online Retail Cleaned.xlsx'\")"
   ]
  },
  {
   "cell_type": "code",
   "execution_count": null,
   "id": "505a9aa2-5548-43da-91f3-4b45ed5fe1dd",
   "metadata": {},
   "outputs": [],
   "source": []
  }
 ],
 "metadata": {
  "kernelspec": {
   "display_name": "Python 3 (ipykernel)",
   "language": "python",
   "name": "python3"
  },
  "language_info": {
   "codemirror_mode": {
    "name": "ipython",
    "version": 3
   },
   "file_extension": ".py",
   "mimetype": "text/x-python",
   "name": "python",
   "nbconvert_exporter": "python",
   "pygments_lexer": "ipython3",
   "version": "3.12.4"
  }
 },
 "nbformat": 4,
 "nbformat_minor": 5
}
